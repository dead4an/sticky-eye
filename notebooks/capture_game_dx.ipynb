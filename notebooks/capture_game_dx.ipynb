{
 "cells": [
  {
   "cell_type": "code",
   "execution_count": 34,
   "id": "45a1f076",
   "metadata": {},
   "outputs": [],
   "source": [
    "import cv2\n",
    "import dxcam\n",
    "import win32gui"
   ]
  },
  {
   "cell_type": "code",
   "execution_count": 35,
   "id": "426cb9c5",
   "metadata": {},
   "outputs": [],
   "source": [
    "def get_window_rect(window_name):\n",
    "    window = win32gui.FindWindow(None, window_name)\n",
    "    if not window:\n",
    "        raise Exception(f\"Window '{window_name}' not found\")\n",
    "    left, top, right, bot = win32gui.GetWindowRect(window)\n",
    "    return (left, top, right, bot)\n",
    "\n",
    "def capture_game(window_name):\n",
    "    region = get_window_rect(window_name)\n",
    "    if any(pos < 0 for pos in region):\n",
    "        raise Exception(\"Window not found\")\n",
    "        \n",
    "    camera = dxcam.create(region=region)\n",
    "    camera.start()\n",
    "    \n",
    "    frame = camera.get_latest_frame()\n",
    "    if frame is not None:\n",
    "        frame = cv2.cvtColor(frame, cv2.COLOR_BGR2RGB)\n",
    "        cv2.imshow(\"Liftoff capture\", frame)\n",
    "        cv2.waitKey(0)\n",
    "        cv2.destroyAllWindows()\n",
    "\n",
    "    camera.stop()\n"
   ]
  },
  {
   "cell_type": "code",
   "execution_count": 36,
   "id": "7664b7b6",
   "metadata": {},
   "outputs": [
    {
     "name": "stdout",
     "output_type": "stream",
     "text": [
      "Screen Capture FPS: 61\n"
     ]
    }
   ],
   "source": [
    "window_name = \"Liftoff\"\n",
    "capture_game(window_name)"
   ]
  }
 ],
 "metadata": {
  "kernelspec": {
   "display_name": ".venv",
   "language": "python",
   "name": "python3"
  },
  "language_info": {
   "codemirror_mode": {
    "name": "ipython",
    "version": 3
   },
   "file_extension": ".py",
   "mimetype": "text/x-python",
   "name": "python",
   "nbconvert_exporter": "python",
   "pygments_lexer": "ipython3",
   "version": "3.11.0"
  }
 },
 "nbformat": 4,
 "nbformat_minor": 5
}
