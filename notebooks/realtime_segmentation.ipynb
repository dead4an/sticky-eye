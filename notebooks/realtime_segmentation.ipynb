{
 "cells": [
  {
   "cell_type": "code",
   "execution_count": null,
   "id": "14aaac1c",
   "metadata": {},
   "outputs": [],
   "source": [
    "import os\n",
    "import cv2\n",
    "import torch\n",
    "from ultralytics import YOLO"
   ]
  },
  {
   "cell_type": "code",
   "execution_count": null,
   "id": "366fe8a9",
   "metadata": {},
   "outputs": [],
   "source": [
    "# paths\n",
    "NOTEBOOK_DIR = os.getcwd()\n",
    "ROOT = os.path.join(NOTEBOOK_DIR, os.path.pardir)\n",
    "VIDEO_DIR = os.path.join(ROOT, \"video\")\n",
    "VIDEO_PATH = os.path.join(VIDEO_DIR, \"4.mp4\")\n",
    "CHECKPOINTS_DIR = os.path.join(ROOT, \"checkpoints\")\n",
    "YOLO_CHECKPOINT_PATH = os.path.join(CHECKPOINTS_DIR, \"yolo11s-seg.pt\")\n",
    "\n",
    "# torch cfg\n",
    "DEVICE = torch.device(\"cuda\" if torch.cuda.is_available() else \"cpu\")\n",
    "\n",
    "# YOLO cfg\n",
    "CLASSES_TO_DETECT = list(range(0, 9)) # detects persons and vehichles"
   ]
  },
  {
   "cell_type": "code",
   "execution_count": null,
   "id": "26997a60",
   "metadata": {},
   "outputs": [],
   "source": [
    "model = YOLO(YOLO_CHECKPOINT_PATH)\n",
    "update_rate = 10"
   ]
  },
  {
   "cell_type": "code",
   "execution_count": null,
   "id": "de904c40",
   "metadata": {},
   "outputs": [],
   "source": [
    "cap = cv2.VideoCapture(VIDEO_PATH)\n",
    "fps = int(cap.get(cv2.CAP_PROP_FPS))\n",
    "width = int(cap.get(cv2.CAP_PROP_FRAME_WIDTH))\n",
    "height = int(cap.get(cv2.CAP_PROP_FRAME_HEIGHT))\n",
    "fps, width, height"
   ]
  },
  {
   "cell_type": "code",
   "execution_count": null,
   "id": "f96e7546",
   "metadata": {},
   "outputs": [],
   "source": [
    "paused = False\n",
    "frame_counter = 1\n",
    "while cap.isOpened():\n",
    "    if not paused:\n",
    "        ret, frame = cap.read()\n",
    "        if not ret: \n",
    "            break\n",
    "\n",
    "        if frame_counter == 9:            \n",
    "            results = model.predict(frame, classes=CLASSES_TO_DETECT, conf=0.4)\n",
    "            annotated_frame = results[0].plot()\n",
    "            cv2.imshow(\"YOLO segmentation\", annotated_frame)\n",
    "            frame_counter = 0\n",
    "\n",
    "    key = cv2.waitKey(10 if not paused else 0)\n",
    "    if key == ord(\"q\"):\n",
    "        cv2.destroyAllWindows()\n",
    "        break\n",
    "    elif key == ord(\" \"):\n",
    "        paused = not paused\n",
    "\n",
    "    frame_counter += 1\n",
    "\n",
    "if cv2.waitKey(0) == ord(\"q\"):\n",
    "    cv2.destroyAllWindows()"
   ]
  }
 ],
 "metadata": {
  "kernelspec": {
   "display_name": ".venv",
   "language": "python",
   "name": "python3"
  },
  "language_info": {
   "codemirror_mode": {
    "name": "ipython",
    "version": 3
   },
   "file_extension": ".py",
   "mimetype": "text/x-python",
   "name": "python",
   "nbconvert_exporter": "python",
   "pygments_lexer": "ipython3",
   "version": "3.11.0"
  }
 },
 "nbformat": 4,
 "nbformat_minor": 5
}
