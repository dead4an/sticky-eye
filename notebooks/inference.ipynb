{
 "cells": [
  {
   "cell_type": "code",
   "execution_count": null,
   "id": "f88f3c32",
   "metadata": {},
   "outputs": [],
   "source": [
    "import os\n",
    "import cv2\n",
    "import numpy as np\n",
    "\n",
    "# video\n",
    "import dxcam\n",
    "import win32gui\n",
    "\n",
    "# model\n",
    "import torch\n",
    "from ultralytics import YOLO\n",
    "\n",
    "from IPython.display import display, Image, clear_output\n",
    "import ipywidgets as widgets\n",
    "import time"
   ]
  },
  {
   "cell_type": "code",
   "execution_count": null,
   "id": "44b963ca",
   "metadata": {},
   "outputs": [],
   "source": [
    "# paths\n",
    "NOTEBOOK_DIR = os.getcwd()\n",
    "ROOT = os.path.join(NOTEBOOK_DIR, os.path.pardir)\n",
    "CHECKPOINTS_DIR = os.path.join(ROOT, \"checkpoints\")\n",
    "YOLO_CHECKPOINT_PATH = os.path.join(CHECKPOINTS_DIR, \"yolo11s-det.pt\")\n",
    "\n",
    "# torch cfg\n",
    "DEVICE = torch.device(\"cuda\" if torch.cuda.is_available() else \"cpu\")\n",
    "\n",
    "# misc\n",
    "WINDOW_NAME = \"Liftoff\""
   ]
  },
  {
   "cell_type": "code",
   "execution_count": null,
   "id": "f9013de5",
   "metadata": {},
   "outputs": [],
   "source": [
    "def get_window_rect(window_name):\n",
    "    window = win32gui.FindWindow(None, window_name)\n",
    "    if not window:\n",
    "        raise Exception(f\"Window '{window_name}' not found\")\n",
    "    left, top, right, bot = win32gui.GetWindowRect(window)\n",
    "    return (left, top, right, bot)\n",
    "\n",
    "def get_game_region(window_name):\n",
    "    # find and correct game region\n",
    "    region = get_window_rect(window_name)\n",
    "    x_top, y_top, x_bot, y_bot = region\n",
    "    x_top += 15\n",
    "    y_top += 15\n",
    "    x_bot -= 15\n",
    "    y_bot -= 15\n",
    "    region = (x_top, y_top, x_bot, y_bot)\n",
    "\n",
    "    # check if region out of bounds\n",
    "    if any(pos < 0 for pos in region):\n",
    "        raise Exception(\"Window not found\")\n",
    "\n",
    "    return region\n",
    "\n",
    "def capture_game(camera):\n",
    "    # camera.start()\n",
    "    frame = camera.get_latest_frame()\n",
    "    if frame is not None:\n",
    "        frame = cv2.cvtColor(frame, cv2.COLOR_BGR2RGB)\n",
    "        return frame\n",
    "    \n",
    "    raise Exception(\"Window not found\")"
   ]
  },
  {
   "cell_type": "code",
   "execution_count": null,
   "id": "ea4fe8ee",
   "metadata": {},
   "outputs": [],
   "source": [
    "# init model\n",
    "model = YOLO(YOLO_CHECKPOINT_PATH).to(DEVICE)"
   ]
  },
  {
   "cell_type": "code",
   "execution_count": null,
   "id": "5c98a925",
   "metadata": {},
   "outputs": [],
   "source": [
    "# start game capturing\n",
    "region = get_game_region(WINDOW_NAME)\n",
    "camera = dxcam.create(region=region)\n",
    "camera.start()\n",
    "\n",
    "out = widgets.Output()\n",
    "display(out)\n",
    "\n",
    "while True:\n",
    "    frame = capture_game(camera)\n",
    "\n",
    "    if frame is None:\n",
    "        break\n",
    "\n",
    "    results = model.predict(frame, conf=0.5, verbose=False)\n",
    "    annotated_frame = results[0].plot()\n",
    "\n",
    "    _, jpeg = cv2.imencode('.jpeg', annotated_frame)\n",
    "    with out:\n",
    "        clear_output(wait=True)\n",
    "        display(Image(data=jpeg.tobytes()))\n",
    "        time.sleep(0.01)"
   ]
  }
 ],
 "metadata": {
  "kernelspec": {
   "display_name": ".venv",
   "language": "python",
   "name": "python3"
  },
  "language_info": {
   "codemirror_mode": {
    "name": "ipython",
    "version": 3
   },
   "file_extension": ".py",
   "mimetype": "text/x-python",
   "name": "python",
   "nbconvert_exporter": "python",
   "pygments_lexer": "ipython3",
   "version": "3.11.0"
  }
 },
 "nbformat": 4,
 "nbformat_minor": 5
}
