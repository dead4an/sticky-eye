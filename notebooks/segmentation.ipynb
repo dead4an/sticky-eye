{
 "cells": [
  {
   "cell_type": "code",
   "execution_count": null,
   "id": "9de9f774",
   "metadata": {},
   "outputs": [],
   "source": [
    "import os\n",
    "import cv2 as cv\n",
    "import torch\n",
    "import matplotlib.pyplot as plt\n",
    "from ultralytics import YOLO"
   ]
  },
  {
   "cell_type": "code",
   "execution_count": null,
   "id": "4d787450",
   "metadata": {},
   "outputs": [],
   "source": [
    "# paths\n",
    "NOTEBOOK_DIR = os.getcwd()\n",
    "ROOT = os.path.join(NOTEBOOK_DIR, os.path.pardir)\n",
    "IMG_DIR = os.path.join(ROOT, \"images\")\n",
    "CHECKPOINTS_DIR = os.path.join(ROOT, \"checkpoints\")\n",
    "YOLO_CHECKPOINT_PATH = os.path.join(CHECKPOINTS_DIR, \"yolo11s-seg.pt\")\n",
    "\n",
    "# torch cfg\n",
    "DEVICE = torch.device(\"cuda\" if torch.cuda.is_available() else \"cpu\")\n",
    "\n",
    "# YOLO cfg\n",
    "CLASSES_TO_DETECT = list(range(0, 9)) # detects persons and vehichles"
   ]
  },
  {
   "cell_type": "code",
   "execution_count": null,
   "id": "0027e2db",
   "metadata": {},
   "outputs": [],
   "source": [
    "model = YOLO(YOLO_CHECKPOINT_PATH)\n",
    "model.to(DEVICE)"
   ]
  },
  {
   "cell_type": "code",
   "execution_count": null,
   "id": "613689b6",
   "metadata": {},
   "outputs": [],
   "source": [
    "imgs = []\n",
    "for filename in os.listdir(IMG_DIR):\n",
    "    img_path = os.path.join(IMG_DIR, filename)\n",
    "    img = cv.imread(img_path)\n",
    "    img = cv.cvtColor(img, cv.COLOR_BGR2RGB)\n",
    "    imgs.append(img)\n",
    "\n",
    "preds = model.predict(imgs, classes=CLASSES_TO_DETECT)"
   ]
  },
  {
   "cell_type": "code",
   "execution_count": null,
   "id": "6cebb673",
   "metadata": {},
   "outputs": [],
   "source": [
    "# Plotting\n",
    "for i, pred in enumerate(preds):\n",
    "    plt.figure(figsize=(10, 6))\n",
    "    plt.imshow(imgs[i])\n",
    "\n",
    "    boxes = pred.boxes.xyxy.cpu().numpy()\n",
    "    labels = pred.boxes.cls.cpu().numpy()\n",
    "    scores = pred.boxes.conf.cpu().numpy()\n",
    "\n",
    "    for box, label, score in zip(boxes, labels, scores):\n",
    "        x1, y1, x2, y2 = box\n",
    "        class_name = model.names[int(label)]\n",
    "        plt.plot([x1, x2, x2, x1, x1], [y1, y1, y2, y2, y1], \n",
    "                 linewidth=2, color=\"red\")\n",
    "        plt.text(x1, y1 - 5, f\"{class_name} {score:.2f}\", \n",
    "                 fontsize=10, color=\"red\", bbox=dict(facecolor=\"white\", alpha=0.7))\n",
    "\n",
    "plt.axis(\"off\")\n",
    "plt.show()"
   ]
  }
 ],
 "metadata": {
  "kernelspec": {
   "display_name": ".venv",
   "language": "python",
   "name": "python3"
  },
  "language_info": {
   "codemirror_mode": {
    "name": "ipython",
    "version": 3
   },
   "file_extension": ".py",
   "mimetype": "text/x-python",
   "name": "python",
   "nbconvert_exporter": "python",
   "pygments_lexer": "ipython3",
   "version": "3.11.0"
  }
 },
 "nbformat": 4,
 "nbformat_minor": 5
}
