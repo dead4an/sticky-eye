{
 "cells": [
  {
   "cell_type": "code",
   "execution_count": null,
   "id": "f61528e7",
   "metadata": {},
   "outputs": [],
   "source": [
    "import numpy as np\n",
    "import cv2\n",
    "import matplotlib.pyplot as plt\n",
    "\n",
    "# pip instal pywin32\n",
    "import win32gui\n",
    "import win32ui\n",
    "import win32con"
   ]
  },
  {
   "cell_type": "code",
   "execution_count": null,
   "id": "1f4781cb",
   "metadata": {},
   "outputs": [],
   "source": [
    "def capture_game(window_name):\n",
    "    window = win32gui.FindWindow(None, window_name)\n",
    "    if not window:\n",
    "        raise Exception(f\"Window not found: {window_name}\")\n",
    "    \n",
    "    \n",
    "    left, top, right, bot = win32gui.GetWindowRect(window)\n",
    "    width = right - left\n",
    "    height = bot - top\n",
    "\n",
    "    windowDC = win32gui.GetWindowDC(window)\n",
    "    memoryDC = win32ui.CreateDCFromHandle(windowDC)\n",
    "    saveDC = memoryDC.CreateCompatibleDC()\n",
    "\n",
    "    bitmap = win32ui.CreateBitmap()\n",
    "    bitmap.CreateCompatibleBitmap(memoryDC, width, height)\n",
    "    saveDC.SelectObject(bitmap)\n",
    "    saveDC.BitBlt((0, 0), (width, height), memoryDC, (0, 0), win32con.SRCCOPY)\n",
    "\n",
    "    bitmapstr = bitmap.GetBitmapBits(True)\n",
    "    img = np.frombuffer(bitmapstr, dtype=\"uint8\")\n",
    "    img = img.reshape((height, width, 4))\n",
    "\n",
    "    win32gui.InvalidateRect(window, None, True)\n",
    "    win32gui.UpdateWindow(window)\n",
    "\n",
    "    memoryDC.DeleteDC()\n",
    "    saveDC.DeleteDC()\n",
    "    win32gui.DeleteObject(bitmap.GetHandle())\n",
    "    win32gui.ReleaseDC(window, windowDC)\n",
    "\n",
    "    return img"
   ]
  },
  {
   "cell_type": "code",
   "execution_count": null,
   "id": "2019b47c",
   "metadata": {},
   "outputs": [],
   "source": [
    "img = capture_game(\"Liftoff\")\n",
    "img.shape"
   ]
  },
  {
   "cell_type": "code",
   "execution_count": null,
   "id": "4fda79b6",
   "metadata": {},
   "outputs": [],
   "source": [
    "plt.imshow(img)"
   ]
  }
 ],
 "metadata": {
  "kernelspec": {
   "display_name": ".venv",
   "language": "python",
   "name": "python3"
  },
  "language_info": {
   "codemirror_mode": {
    "name": "ipython",
    "version": 3
   },
   "file_extension": ".py",
   "mimetype": "text/x-python",
   "name": "python",
   "nbconvert_exporter": "python",
   "pygments_lexer": "ipython3",
   "version": "3.11.0"
  }
 },
 "nbformat": 4,
 "nbformat_minor": 5
}
